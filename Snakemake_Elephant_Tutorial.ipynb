{
 "cells": [
  {
   "cell_type": "markdown",
   "metadata": {},
   "source": [
    "# Snakemake Introduction to Elephant\n",
    "## Workflow management based on a electrophysiology example"
   ]
  },
  {
   "cell_type": "markdown",
   "metadata": {},
   "source": [
    "In this tutorial I will first introduce the workflow management system [snakemake](https://snakemake.readthedocs.io) and show how this can be used for analysis of electrophysiology data using the electrophysiology analysis toolkit [Elephant](http://neuralensemble.org/elephant). For snakemake as well as Elephant tutorials exist already as part of the documentation and were partially reused in the tutorial presented here."
   ]
  },
  {
   "cell_type": "markdown",
   "metadata": {},
   "source": [
    "*NOTE: When running this tutorial locally, please first install the [requirements](environment.yml) to ensure the examples are working.*"
   ]
  },
  {
   "cell_type": "markdown",
   "metadata": {},
   "source": [
    "## Workflow management - Do I need this?"
   ]
  },
  {
   "cell_type": "markdown",
   "metadata": {},
   "source": [
    "There is a number of reasons for managing your managing workflows besides the classical 'I always run first script a and then script b':\n",
    "* **Growing Complexity** When starting a seemingly small and simple project everything is still pretty easy, but typically projects tend to grow beyond the initially expected size and complexity. This affects two different aspects 1) the dependency between different steps in workflow as well as 2) the dependency of your analysis results on version of intermediate steps in the pipeline (data as well as code).\n",
    "* **Collaboration & Sharing** Some day a collegue of yours wants to use your workflow or you are required to publish the analysis together with the manuscript presenting the results of your work to the scientific community. Instead of writing a book about which versions of what programm you installed in which order, wouldn't it be nice to have a structured and self explanatory of your analysis steps already at hand?\n",
    "* **Software Evolution** Luckily, software develops and bugs are fixed from time to time. Unfortunately this also implies that your workflow might break unexpectedly upon updating your system. Having a well defined environment to run your analysis in is essential for reproducibility of your results."
   ]
  },
  {
   "cell_type": "markdown",
   "metadata": {},
   "source": [
    "## Snakemake"
   ]
  },
  {
   "cell_type": "markdown",
   "metadata": {},
   "source": [
    "Snakemake helps you to structure your workflow by providing a framework to specify the dependencies between individual steps in your analysis workflow. By doing so it enforces a modular structure in the project and allows to specify the (python) software versions used in each step of the process."
   ]
  },
  {
   "cell_type": "markdown",
   "metadata": {},
   "source": [
    "The workflow definition according to snakemake is file based, i.e. each step in the workflow is specified via the required input files and the generated output files, as you might now from common [`Makefiles`](https://en.wikipedia.org/wiki/Make_(software)). Each step is defined in a `rule`, specifying input and output files as well as instructions on how to get from the input to the output files. Here the instructions to convert `fileA.txt` into `fileB.txt` are a simple copy performed in a shell:"
   ]
  },
  {
   "cell_type": "code",
   "execution_count": 1,
   "metadata": {},
   "outputs": [
    {
     "name": "stdout",
     "output_type": "stream",
     "text": [
      "Writing Snakefile\n"
     ]
    }
   ],
   "source": [
    "%%writefile Snakefile\n",
    "rule:\n",
    "    input: 'fileA.txt'\n",
    "    output: 'fileB.txt'\n",
    "    shell: 'cp fileA.txt fileB.txt'"
   ]
  },
  {
   "cell_type": "markdown",
   "metadata": {},
   "source": [
    "For snakemake the workflow definition needs to be specified in a `Snakefile` and can be executed by calling `snakemake` in a terminal in the same location as the `Snakefile`. Here the example rule above has been exported into a [`Snakefile`](Snakefile) using the `%%writefile` jupyter magic command."
   ]
  },
  {
   "cell_type": "markdown",
   "metadata": {},
   "source": [
    "Now we can ask snakemake to generate `fileB.txt` for us:"
   ]
  },
  {
   "cell_type": "code",
   "execution_count": 2,
   "metadata": {},
   "outputs": [
    {
     "name": "stderr",
     "output_type": "stream",
     "text": [
      "Building DAG of jobs...\n",
      "Nothing to be done.\n",
      "Complete log: /home/julia/presentations/2019-06-20_Toronto/snakemake_elephant_demo/.snakemake/log/2019-06-06T095229.961155.snakemake.log\n"
     ]
    }
   ],
   "source": [
    "%%sh\n",
    "snakemake"
   ]
  },
  {
   "cell_type": "markdown",
   "metadata": {},
   "source": [
    "This fails with snakemake complaining about\n",
    "```\n",
    "Missing input files for rule 1:\n",
    "fileA.txt\n",
    "```\n",
    "Which is correct, since there is no `fileA.txt` present to generate `fileB.txt` from. So let's add second rule which is capable of generating `fileA.txt` without required inputfiles.\n"
   ]
  },
  {
   "cell_type": "code",
   "execution_count": 3,
   "metadata": {},
   "outputs": [
    {
     "name": "stdout",
     "output_type": "stream",
     "text": [
      "Appending to Snakefile\n"
     ]
    }
   ],
   "source": [
    "%%writefile -a Snakefile\n",
    "rule:\n",
    "    output: 'fileA.txt'\n",
    "    shell: 'touch fileA.txt'"
   ]
  },
  {
   "cell_type": "markdown",
   "metadata": {},
   "source": [
    "And ask snakemake again to generate the `fileB.txt` for us"
   ]
  },
  {
   "cell_type": "code",
   "execution_count": 4,
   "metadata": {},
   "outputs": [
    {
     "name": "stderr",
     "output_type": "stream",
     "text": [
      "Building DAG of jobs...\n",
      "Nothing to be done.\n",
      "Complete log: /home/julia/presentations/2019-06-20_Toronto/snakemake_elephant_demo/.snakemake/log/2019-06-06T095234.818879.snakemake.log\n"
     ]
    }
   ],
   "source": [
    "%%sh\n",
    "snakemake"
   ]
  },
  {
   "cell_type": "markdown",
   "metadata": {},
   "source": [
    "Internally snakemake is first resolving the set of rules into a directed acyclic graph (dag) to determine in which order the rules neet do be executed. We can generate a visualization of the workflow using the `--dag` flag in combination with `dot` and `display` (for local notebook instances) or save the graph as svg (e.g. for remote instances)."
   ]
  },
  {
   "cell_type": "code",
   "execution_count": 6,
   "metadata": {},
   "outputs": [
    {
     "name": "stderr",
     "output_type": "stream",
     "text": [
      "Building DAG of jobs...\n",
      "Building DAG of jobs...\n"
     ]
    }
   ],
   "source": [
    "%%sh\n",
    "snakemake --dag | dot | display\n",
    "snakemake --dag | dot -Tsvg > dag0.svg"
   ]
  },
  {
   "cell_type": "markdown",
   "metadata": {},
   "source": [
    "The resulting graph shows the dependencies between the two rules, which were automatically enumerated. The line style (continuous/dashed) indicated whether the rules were already executed or not."
   ]
  },
  {
   "cell_type": "markdown",
   "metadata": {},
   "source": [
    "![DAG](dag0.svg)"
   ]
  },
  {
   "cell_type": "markdown",
   "metadata": {},
   "source": [
    "We can also provide explicit names for rules to make the graph better human readable:"
   ]
  },
  {
   "cell_type": "code",
   "execution_count": 11,
   "metadata": {},
   "outputs": [
    {
     "name": "stdout",
     "output_type": "stream",
     "text": [
      "Overwriting Snakefile\n"
     ]
    }
   ],
   "source": [
    "%%writefile Snakefile\n",
    "rule copy_A_to_B:\n",
    "    input: 'fileA.txt'\n",
    "    output: 'fileB.txt'\n",
    "    shell: 'cp {input} {output}'\n",
    "rule create_A:\n",
    "    output: 'fileA.txt'\n",
    "    shell: 'touch fileA.txt'"
   ]
  },
  {
   "cell_type": "code",
   "execution_count": 12,
   "metadata": {},
   "outputs": [
    {
     "name": "stderr",
     "output_type": "stream",
     "text": [
      "Building DAG of jobs...\n",
      "Building DAG of jobs...\n"
     ]
    }
   ],
   "source": [
    "%%sh\n",
    "snakemake --dag | dot | display\n",
    "snakemake --dag | dot -Tsvg > dag1.svg"
   ]
  },
  {
   "cell_type": "markdown",
   "metadata": {},
   "source": [
    "![DAG](dag1.svg)"
   ]
  },
  {
   "cell_type": "markdown",
   "metadata": {},
   "source": [
    "Here we already used a different notation to specify in the shell comand `cp {input} {output}` instead of explicitely repeating the input and output filenames. These placeholders will be substituted by snakemake during the execution by the filenames defined as `input` / `output`. We can use the same notation to generalize the required input of the rule depending on the output, e.g. we permit the copy rule to work for arbitrary files having a certain naming scheme. Here a new folder `new_folder` is automatically generated for the copied files."
   ]
  },
  {
   "cell_type": "code",
   "execution_count": 19,
   "metadata": {},
   "outputs": [
    {
     "name": "stdout",
     "output_type": "stream",
     "text": [
      "Overwriting Snakefile\n"
     ]
    }
   ],
   "source": [
    "%%writefile Snakefile\n",
    "rule copy_to_new_folder:\n",
    "    input: 'file{id}.txt'\n",
    "    output: 'new_folder/file{id}.txt'\n",
    "    shell: 'cp {input} {output}'\n",
    "rule create_file:\n",
    "    output: 'file{id}.txt'\n",
    "    shell: 'touch {output}'"
   ]
  },
  {
   "cell_type": "markdown",
   "metadata": {},
   "source": [
    "For running the workflow now, we need to specify, which file we actually need as a final result and snakemake takes care of the individual steps to generate that file. We specify the desired output file as a snakemake argument:"
   ]
  },
  {
   "cell_type": "code",
   "execution_count": 21,
   "metadata": {},
   "outputs": [
    {
     "name": "stderr",
     "output_type": "stream",
     "text": [
      "Building DAG of jobs...\n",
      "Building DAG of jobs...\n"
     ]
    }
   ],
   "source": [
    "%%sh\n",
    "snakemake new_folder/fileZ.txt --dag | dot | display\n",
    "snakemake new_folder/fileZ.txt --dag | dot -Tsvg > dag2.svg"
   ]
  },
  {
   "cell_type": "markdown",
   "metadata": {},
   "source": [
    "To generate a set of output files, we can either request these individually when running snakemake, e.g. using `snakemake -np new_folder/file{0,1,2,3,4,5,6,7,8,9}.txt`. In case the workflow output is not being changed frequently, it is also possible to add a final rule (conventionally named 'all'), which requests all desired output files of the workflow:"
   ]
  },
  {
   "cell_type": "code",
   "execution_count": 36,
   "metadata": {},
   "outputs": [
    {
     "name": "stdout",
     "output_type": "stream",
     "text": [
      "Overwriting Snakefile\n"
     ]
    }
   ],
   "source": [
    "%%writefile Snakefile\n",
    "rule all:\n",
    "    input: expand('new_folder/file{id}.txt', id=range(10))\n",
    "rule copy_to_new_folder:\n",
    "    input: 'file{id}.txt'\n",
    "    output: 'new_folder/file{id}.txt'\n",
    "    shell: 'cp {input} {output}'\n",
    "rule create_file:\n",
    "    output: 'file{id}.txt'\n",
    "    shell: 'touch {output}'"
   ]
  },
  {
   "cell_type": "code",
   "execution_count": 37,
   "metadata": {},
   "outputs": [
    {
     "name": "stderr",
     "output_type": "stream",
     "text": [
      "Building DAG of jobs...\n",
      "Building DAG of jobs...\n"
     ]
    }
   ],
   "source": [
    "%%sh\n",
    "snakemake --dag | dot | display\n",
    "snakemake --dag | dot -Tsvg > dag3.svg"
   ]
  },
  {
   "cell_type": "markdown",
   "metadata": {},
   "source": [
    "Here I used the snakemake function `expand`, which extends a given statement (here `new_folder_file{id}.txt`) for all combinations of parameters provided (here `id` values from 0 to 10). This permits to easily applied a set of rules to a number of different files."
   ]
  },
  {
   "cell_type": "markdown",
   "metadata": {},
   "source": [
    "![DAG](dag3.svg)"
   ]
  },
  {
   "cell_type": "markdown",
   "metadata": {},
   "source": [
    "Typically, analysis is a bit more complicated than creating empty files and copying them from A to B using shell commands. Snakemake also support a number of different execution methods\n",
    "* in a shell (as used above)\n",
    "* in python (using run:)\n",
    "* run python/R/Markdown scripts directly (using script:)\n",
    "As an example we can use a small python script to generate our initial data files and store a (randomly generated) value. The Python script would look like this:"
   ]
  },
  {
   "cell_type": "code",
   "execution_count": 39,
   "metadata": {},
   "outputs": [
    {
     "name": "stdout",
     "output_type": "stream",
     "text": [
      "Writing generate_data.py\n"
     ]
    }
   ],
   "source": [
    "%%writefile generate_data.py\n",
    "import sys\n",
    "import numpy as np\n",
    "\n",
    "def generate_random_data(output_filename):\n",
    "    # write a random number in an output file\n",
    "    f = open(output_filename, \"w\")\n",
    "    f.write(np.random.random())\n",
    "    f.close()\n",
    "\n",
    "# extracting the output filename from the command line parameters provided\n",
    "output_filename = sys.argv[1]\n",
    "generate_random_data(output_filename)"
   ]
  },
  {
   "cell_type": "markdown",
   "metadata": {},
   "source": [
    "The corresponding snakemake rule now needs to provide the argument to the `generate_data.py` script:"
   ]
  },
  {
   "cell_type": "code",
   "execution_count": 43,
   "metadata": {},
   "outputs": [
    {
     "name": "stdout",
     "output_type": "stream",
     "text": [
      "Overwriting Snakefile\n"
     ]
    }
   ],
   "source": [
    "%%writefile Snakefile\n",
    "rule all:\n",
    "    input: expand('new_folder/file{id}.txt', id=range(10))\n",
    "rule copy_to_new_folder:\n",
    "    input: 'file{id}.txt'\n",
    "    output: 'new_folder/file{id}.txt'\n",
    "    shell: 'cp {input} {output}'\n",
    "rule generate_data:\n",
    "    output: 'file{id}.txt'\n",
    "    run: 'generate_data.py {output}'"
   ]
  },
  {
   "cell_type": "code",
   "execution_count": 44,
   "metadata": {},
   "outputs": [
    {
     "name": "stderr",
     "output_type": "stream",
     "text": [
      "Building DAG of jobs...\n",
      "Building DAG of jobs...\n"
     ]
    }
   ],
   "source": [
    "%%sh\n",
    "snakemake --dag | dot | display\n",
    "snakemake --dag | dot -Tsvg > dag4.svg"
   ]
  },
  {
   "cell_type": "markdown",
   "metadata": {},
   "source": [
    "## Utilizing Snakemake for Data Analysis"
   ]
  },
  {
   "cell_type": "code",
   "execution_count": null,
   "metadata": {},
   "outputs": [],
   "source": [
    "TOADD\n",
    "SNAKEMAKE\n",
    "* wildcards (done)\n",
    "* different rule execution statements (done)\n",
    "* conda environments\n",
    "* expand\n",
    "* config\n",
    "* rulegraph\n",
    "NEO\n",
    "* class structure\n",
    "* io overview\n",
    "* intro to main data objects\n",
    "ELEPHANT\n",
    "* spade elephant demo"
   ]
  },
  {
   "cell_type": "code",
   "execution_count": null,
   "metadata": {},
   "outputs": [],
   "source": []
  }
 ],
 "metadata": {
  "kernelspec": {
   "display_name": "Python 3",
   "language": "python",
   "name": "python3"
  },
  "language_info": {
   "codemirror_mode": {
    "name": "ipython",
    "version": 3
   },
   "file_extension": ".py",
   "mimetype": "text/x-python",
   "name": "python",
   "nbconvert_exporter": "python",
   "pygments_lexer": "ipython3",
   "version": "3.6.8"
  }
 },
 "nbformat": 4,
 "nbformat_minor": 2
}
