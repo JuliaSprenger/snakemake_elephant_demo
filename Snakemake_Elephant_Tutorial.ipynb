{
 "cells": [
  {
   "cell_type": "markdown",
   "metadata": {},
   "source": [
    "# Snakemake Introduction to Elephant\n",
    "## Workflow management based on a electrophysiology example"
   ]
  },
  {
   "cell_type": "markdown",
   "metadata": {},
   "source": [
    "<table  bgcolor=\"#000000\"><tr>\n",
    "<td><img src=logos/snakemake_logo.svg alt=\"Drawing\" style=\"width: 300px;\"/>\n",
    "<td><img src=http://neo.readthedocs.org/en/latest/_images/neologo.png alt=\"Drawing\" style=\"width: 400px;\"/>\n",
    "<td><img src=http://elephant.readthedocs.org/en/latest/_static/elephant_logo_sidebar.png alt=\"Drawing\" style=\"width: 400px;\"/>\n",
    "</tr></table>"
   ]
  },
  {
   "cell_type": "markdown",
   "metadata": {},
   "source": [
    "In this tutorial I will first introduce the workflow management system [snakemake](https://snakemake.readthedocs.io) and show how this can be used for analysis of electrophysiology data using the electrophysiology analysis toolkit [Elephant](http://neuralensemble.org/elephant). For snakemake as well as Elephant tutorials exist already as part of the documentation and were partially reused in the tutorial presented here."
   ]
  },
  {
   "cell_type": "markdown",
   "metadata": {},
   "source": [
    "*NOTE: When running this tutorial locally, please first install the [requirements](environment.yml) to ensure the examples are working.*"
   ]
  },
  {
   "cell_type": "markdown",
   "metadata": {},
   "source": [
    "## Workflow management - Do I need this?"
   ]
  },
  {
   "cell_type": "markdown",
   "metadata": {},
   "source": [
    "There is a number of reasons for managing your managing workflows besides the classical 'I always run first script a and then script b':\n",
    "* **Growing Complexity** When starting a seemingly small and simple project everything is still pretty easy, but typically projects tend to grow beyond the initially expected size and complexity. This affects two different aspects 1) the dependency between different steps in workflow as well as 2) the dependency of your analysis results on version of intermediate steps in the pipeline (data as well as code).\n",
    "* **Collaboration & Sharing** Some day a collegue of yours wants to use your workflow or you are required to publish the analysis together with the manuscript presenting the results of your work to the scientific community. Instead of writing a book about which versions of what programm you installed in which order, wouldn't it be nice to have a structured and self explanatory of your analysis steps already at hand?\n",
    "* **Software Evolution** Luckily, software develops and bugs are fixed from time to time. Unfortunately this also implies that your workflow might break unexpectedly upon updating your system. Having a well defined environment to run your analysis in is essential for reproducibility of your results."
   ]
  },
  {
   "cell_type": "markdown",
   "metadata": {},
   "source": [
    "## Snakemake  <img src=logos/snakemake_logo.svg alt=\"Drawing\" style=\"width: 100px;\"/>"
   ]
  },
  {
   "cell_type": "markdown",
   "metadata": {},
   "source": [
    "Snakemake helps you to structure your workflow by providing a framework to specify the dependencies between individual steps in your analysis workflow. By doing so it enforces a modular structure in the project and allows to specify the (python) software versions used in each step of the process."
   ]
  },
  {
   "cell_type": "markdown",
   "metadata": {},
   "source": [
    "The workflow definition according to snakemake is file based, i.e. each step in the workflow is specified via the required input files and the generated output files, as you might now from common [`Makefiles`](https://en.wikipedia.org/wiki/Make_(software)). Each step is defined in a `rule`, specifying input and output files as well as instructions on how to get from the input to the output files. Here the instructions to convert `fileA.txt` into `fileB.txt` are a simple copy performed in a shell:"
   ]
  },
  {
   "cell_type": "code",
   "execution_count": 1,
   "metadata": {},
   "outputs": [
    {
     "name": "stdout",
     "output_type": "stream",
     "text": [
      "Overwriting Snakefile\n"
     ]
    }
   ],
   "source": [
    "%%writefile Snakefile\n",
    "rule:\n",
    "    input: 'fileA.txt'\n",
    "    output: 'fileB.txt'\n",
    "    shell: 'cp fileA.txt fileB.txt'"
   ]
  },
  {
   "cell_type": "markdown",
   "metadata": {},
   "source": [
    "For snakemake the workflow definition needs to be specified in a `Snakefile` and can be executed by calling `snakemake` in a terminal in the same location as the `Snakefile`. Here the example rule above has been exported into a [`Snakefile`](Snakefile) using the `%%writefile` jupyter magic command."
   ]
  },
  {
   "cell_type": "markdown",
   "metadata": {},
   "source": [
    "Now we can ask snakemake to generate `fileB.txt` for us:"
   ]
  },
  {
   "cell_type": "code",
   "execution_count": 2,
   "metadata": {},
   "outputs": [
    {
     "name": "stderr",
     "output_type": "stream",
     "text": [
      "Building DAG of jobs...\n",
      "Nothing to be done.\n",
      "Complete log: /home/julia/presentations/2019-06-20_Toronto/snakemake_elephant_demo/.snakemake/log/2019-06-13T170336.558264.snakemake.log\n"
     ]
    }
   ],
   "source": [
    "%%sh\n",
    "snakemake fileB.txt"
   ]
  },
  {
   "cell_type": "markdown",
   "metadata": {},
   "source": [
    "This fails with snakemake complaining about\n",
    "```\n",
    "Missing input files for rule 1:\n",
    "fileA.txt\n",
    "```\n",
    "Which is correct, since there is no `fileA.txt` present to generate `fileB.txt` from. So let's add second rule which is capable of generating `fileA.txt` without required inputfiles.\n"
   ]
  },
  {
   "cell_type": "code",
   "execution_count": 3,
   "metadata": {},
   "outputs": [
    {
     "name": "stdout",
     "output_type": "stream",
     "text": [
      "Appending to Snakefile\n"
     ]
    }
   ],
   "source": [
    "%%writefile -a Snakefile\n",
    "rule:\n",
    "    output: 'fileA.txt'\n",
    "    shell: 'touch fileA.txt'"
   ]
  },
  {
   "cell_type": "markdown",
   "metadata": {},
   "source": [
    "And ask snakemake again to generate the `fileB.txt` for us"
   ]
  },
  {
   "cell_type": "code",
   "execution_count": 4,
   "metadata": {},
   "outputs": [
    {
     "name": "stderr",
     "output_type": "stream",
     "text": [
      "Building DAG of jobs...\n",
      "Nothing to be done.\n",
      "Complete log: /home/julia/presentations/2019-06-20_Toronto/snakemake_elephant_demo/.snakemake/log/2019-06-13T170338.408031.snakemake.log\n"
     ]
    }
   ],
   "source": [
    "%%sh\n",
    "snakemake"
   ]
  },
  {
   "cell_type": "markdown",
   "metadata": {},
   "source": [
    "Internally snakemake is first resolving the set of rules into a directed acyclic graph (dag) to determine in which order the rules neet do be executed. We can generate a visualization of the workflow using the `--dag` flag in combination with `dot` and `display` (for local notebook instances) or save the graph as svg (e.g. for remote instances)."
   ]
  },
  {
   "cell_type": "code",
   "execution_count": 5,
   "metadata": {},
   "outputs": [
    {
     "name": "stderr",
     "output_type": "stream",
     "text": [
      "Building DAG of jobs...\n",
      "Building DAG of jobs...\n"
     ]
    }
   ],
   "source": [
    "%%sh\n",
    "snakemake --dag | dot | display\n",
    "snakemake --dag | dot -Tsvg > dag0.svg"
   ]
  },
  {
   "cell_type": "markdown",
   "metadata": {},
   "source": [
    "The resulting graph shows the dependencies between the two rules, which were automatically enumerated. The line style (continuous/dashed) indicated whether the rules were already executed or not."
   ]
  },
  {
   "cell_type": "markdown",
   "metadata": {},
   "source": [
    "![DAG](dag0.svg)"
   ]
  },
  {
   "cell_type": "markdown",
   "metadata": {},
   "source": [
    "We can also provide explicit names for rules to make the graph better human readable:"
   ]
  },
  {
   "cell_type": "code",
   "execution_count": 6,
   "metadata": {},
   "outputs": [
    {
     "name": "stdout",
     "output_type": "stream",
     "text": [
      "Overwriting Snakefile\n"
     ]
    }
   ],
   "source": [
    "%%writefile Snakefile\n",
    "rule copy_A_to_B:\n",
    "    input: 'fileA.txt'\n",
    "    output: 'fileB.txt'\n",
    "    shell: 'cp {input} {output}'\n",
    "rule create_A:\n",
    "    output: 'fileA.txt'\n",
    "    shell: 'touch fileA.txt'"
   ]
  },
  {
   "cell_type": "code",
   "execution_count": 7,
   "metadata": {},
   "outputs": [
    {
     "name": "stderr",
     "output_type": "stream",
     "text": [
      "Building DAG of jobs...\n",
      "Building DAG of jobs...\n"
     ]
    }
   ],
   "source": [
    "%%sh\n",
    "snakemake --dag | dot | display\n",
    "snakemake --dag | dot -Tsvg > dag1.svg"
   ]
  },
  {
   "cell_type": "markdown",
   "metadata": {},
   "source": [
    "![DAG](dag1.svg)"
   ]
  },
  {
   "cell_type": "markdown",
   "metadata": {},
   "source": [
    "Here we already used a different notation to specify in the shell comand `cp {input} {output}` instead of explicitely repeating the input and output filenames. These placeholders will be substituted by snakemake during the execution by the filenames defined as `input` / `output`. We can use the same notation to generalize the required input of the rule depending on the output, e.g. we permit the copy rule to work for arbitrary files having a certain naming scheme. Here a new folder `new_folder` is automatically generated for the copied files."
   ]
  },
  {
   "cell_type": "code",
   "execution_count": 8,
   "metadata": {},
   "outputs": [
    {
     "name": "stdout",
     "output_type": "stream",
     "text": [
      "Overwriting Snakefile\n"
     ]
    }
   ],
   "source": [
    "%%writefile Snakefile\n",
    "\n",
    "rule copy_to_new_folder:\n",
    "    input: 'original_data/file{id}.txt'\n",
    "    output: 'new_data/file{id}.txt'\n",
    "    shell: 'cp {input} {output}'\n",
    "        \n",
    "rule create_file:\n",
    "    output: 'original_data/file{id}.txt'\n",
    "    shell: 'touch {output}'"
   ]
  },
  {
   "cell_type": "markdown",
   "metadata": {},
   "source": [
    "For running the workflow now, we need to specify, which file we actually need as a final result and snakemake takes care of the individual steps to generate that file. We specify the desired output file as a snakemake argument:"
   ]
  },
  {
   "cell_type": "code",
   "execution_count": 9,
   "metadata": {},
   "outputs": [
    {
     "name": "stderr",
     "output_type": "stream",
     "text": [
      "Building DAG of jobs...\n",
      "Building DAG of jobs...\n",
      "Building DAG of jobs...\n",
      "Nothing to be done.\n",
      "Complete log: /home/julia/presentations/2019-06-20_Toronto/snakemake_elephant_demo/.snakemake/log/2019-06-13T170355.156852.snakemake.log\n"
     ]
    }
   ],
   "source": [
    "%%sh\n",
    "snakemake new_data/fileZ.txt --dag | dot | display\n",
    "snakemake new_data/fileZ.txt --dag | dot -Tsvg > dag2.svg\n",
    "snakemake new_data/fileZ.txt"
   ]
  },
  {
   "cell_type": "markdown",
   "metadata": {},
   "source": [
    "To generate a set of output files, we can either request these individually when running snakemake, e.g. using `snakemake -np new_folder/file{0,1,2,3,4,5,6,7,8,9}.txt`. In case the workflow output is not being changed frequently, it is also possible to add a final rule (conventionally named 'all'), which requests all desired output files of the workflow:"
   ]
  },
  {
   "cell_type": "code",
   "execution_count": 10,
   "metadata": {},
   "outputs": [
    {
     "name": "stdout",
     "output_type": "stream",
     "text": [
      "Overwriting Snakefile\n"
     ]
    }
   ],
   "source": [
    "%%writefile Snakefile\n",
    "rule all:\n",
    "    input: expand('new_data/file{id}.txt', id=range(10))\n",
    "rule copy_to_new_folder:\n",
    "    input: 'original_data/file{id}.txt'\n",
    "    output: 'new_data/file{id}.txt'\n",
    "    shell: 'cp {input} {output}'\n",
    "rule create_file:\n",
    "    output: 'original_data/file{id}.txt'\n",
    "    shell: 'touch {output}'"
   ]
  },
  {
   "cell_type": "code",
   "execution_count": 11,
   "metadata": {},
   "outputs": [
    {
     "name": "stderr",
     "output_type": "stream",
     "text": [
      "Building DAG of jobs...\n",
      "Building DAG of jobs...\n"
     ]
    }
   ],
   "source": [
    "%%sh\n",
    "snakemake --dag | dot | display\n",
    "snakemake --dag | dot -Tsvg > dag3.svg"
   ]
  },
  {
   "cell_type": "markdown",
   "metadata": {},
   "source": [
    "Here I used the snakemake function `expand`, which extends a given statement (here `new_folder_file{id}.txt`) for all combinations of parameters provided (here `id` values from 0 to 10). This permits to easily applied a set of rules to a number of different files."
   ]
  },
  {
   "cell_type": "markdown",
   "metadata": {},
   "source": [
    "![DAG](dag3.svg)"
   ]
  },
  {
   "cell_type": "markdown",
   "metadata": {},
   "source": [
    "Typically, analysis is a bit more complicated than creating empty files and copying them from A to B using shell commands. Snakemake also support a number of different execution methods\n",
    "* in a shell (as used above)\n",
    "* in python (using run:)\n",
    "* run python/R/Markdown scripts directly (using script:)\n",
    "As an example we can use a small python script to generate our initial data files and store a (randomly generated) value. The Python script would look like this:"
   ]
  },
  {
   "cell_type": "code",
   "execution_count": 12,
   "metadata": {},
   "outputs": [
    {
     "name": "stdout",
     "output_type": "stream",
     "text": [
      "Overwriting generate_data.py\n"
     ]
    }
   ],
   "source": [
    "%%writefile generate_data.py\n",
    "import sys\n",
    "import numpy as np\n",
    "\n",
    "def generate_random_data(output_filename):\n",
    "    # write a random number in an output file\n",
    "    f = open(output_filename, \"w\")\n",
    "    f.write(np.random.random())\n",
    "    f.close()\n",
    "\n",
    "# extracting the output filename from the command line parameters provided\n",
    "output_filename = sys.argv[1]\n",
    "generate_random_data(output_filename)"
   ]
  },
  {
   "cell_type": "markdown",
   "metadata": {},
   "source": [
    "The corresponding snakemake rule now needs to provide the argument to the `generate_data.py` script:"
   ]
  },
  {
   "cell_type": "code",
   "execution_count": 13,
   "metadata": {},
   "outputs": [
    {
     "name": "stdout",
     "output_type": "stream",
     "text": [
      "Overwriting Snakefile\n"
     ]
    }
   ],
   "source": [
    "%%writefile Snakefile\n",
    "\n",
    "rule all:\n",
    "    input: expand('new_data/file{id}.txt', id=range(10))\n",
    "        \n",
    "rule copy_to_new_folder:\n",
    "    input: 'original_data/file{id}.txt'\n",
    "    output: 'new_data/file{id}.txt'\n",
    "    shell: 'cp {input} {output}'\n",
    "        \n",
    "rule generate_data:\n",
    "    output: 'original_data/file{id}.txt'\n",
    "    run: 'generate_data.py {output}'"
   ]
  },
  {
   "cell_type": "code",
   "execution_count": 14,
   "metadata": {},
   "outputs": [
    {
     "name": "stderr",
     "output_type": "stream",
     "text": [
      "Building DAG of jobs...\n",
      "Building DAG of jobs...\n"
     ]
    }
   ],
   "source": [
    "%%sh\n",
    "snakemake --dag | dot | display\n",
    "snakemake --dag | dot -Tsvg > dag4.svg"
   ]
  },
  {
   "cell_type": "markdown",
   "metadata": {},
   "source": [
    "Additional features worth having a look at\n",
    "* conda integration (--use-conda flag)\n",
    "* test runs (--dryrun)\n",
    "* print shell commands (-p)\n",
    "* includes of other Snakefiles\n",
    "* configuration files\n",
    "* rulegraph (--rulegraph)\n",
    "* remote files (e.g. Amazon Simple Storage Service, Google Cloud Storage, SSH, HTTP, FTP, Dopbox, WebDAV, ...)\n",
    "* [snakemake documentation](https://snakemake.readthedocs.io) and [FAQ](https://snakemake.readthedocs.io/en/stable/project_info/faq.html)"
   ]
  },
  {
   "cell_type": "markdown",
   "metadata": {},
   "source": [
    "## Utilizing Snakemake for Data Analysis"
   ]
  },
  {
   "cell_type": "markdown",
   "metadata": {},
   "source": [
    "### The electrophysiology analysis toolkit\n",
    "<img src=https://elephant.readthedocs.io/en/latest/_static/elephant_logo_sidebar.png alt=\"ElephantLogo\" style=\"width: 300px;\"/>  \n",
    "We will present a simple data analysis workflow based on a published dataset of complex electrophysiology data using the electrophysiology analysis toolkit [Elephant](http://neuralensemble.org/elephant). Elephant is provides a number of methods for spiketrain and LFP analysis. Elephant contains a number of methods focussing on analysis of higher order correlation in spiking activity and the statistical evaluation of these. Elephant is based on the [Neo](https://neo.readthedocs.io) data framework, which will first introduce based on artificially generatey spiking data with a known correlation."
   ]
  },
  {
   "cell_type": "markdown",
   "metadata": {},
   "source": [
    "### Neo - the data framework <img src=http://neo.readthedocs.org/en/latest/_images/neologo.png alt=\"NeoLogo\" style=\"width: 400px;\"/>    "
   ]
  },
  {
   "cell_type": "markdown",
   "metadata": {
    "slideshow": {
     "slide_type": "skip"
    }
   },
   "source": [
    "![NeoDataModel](https://neo.readthedocs.io/en/0.7.0/_images/base_schematic.png)\n",
    "*Neo* provides a set of classes for representing time series data (`SpikeTrain`, `AnalogSignalArray`, etc.), for representing the hierarchical arrangement of data in an experiment (`Segment`, `Block`) and for representing the relationship between spike trains and recording channels (`ChannelIndex`, `Unit`). Neo is used by a number of data visualization tools ([OpenElectrophy](http://neuralensemble.org/OpenElectrophy), [SpykeViewer](https://spyke-viewer.readthedocs.org/)) and by the [PyNN](http://neuralensemble.org/PyNN) metasimulator. Neo offers reading capabilities for a large number of proprietary electrophysiology data formats and conversion capability to generic open source data formats/models.\n",
    "<img src=images/IODiagram.svg alt=\"IODiagram\" style=\"width: 600px;\"/>"
   ]
  },
  {
   "cell_type": "markdown",
   "metadata": {},
   "source": [
    "The Neo data model consists of container (Block, Segment, ChannelIndex, Unit) and data objects (AnalogSignals, Spiketrains, Epoch, Events). Container objects provide the relation between the data stored in the Neo structure. Here, we consider only Block and Segment objects as containers. Blocks are designed to contain everything related to a whole recording session and link to Segments, which hold data belonging to a common time frame. For data objects we will use SpikeTrains, designed to capture the time series describing the occurrence of spikes together with the corresponding waveforms. All Neo data objects are derivatives of numpy arrays enhanced with the handling of physical quantities, minimal metadata as well as a generic mechanism to add custom metadata.\n",
    "<img src=https://neo.readthedocs.io/en/0.7.1/_downloads/simple_generated_diagram.svg alt=\"ClassDiagram\" style=\"width: 800px;\"/>\n"
   ]
  },
  {
   "cell_type": "markdown",
   "metadata": {},
   "source": [
    "Performing the analysis requires minimum 3 steps:\n",
    "* retrieving / generating the data\n",
    "* running the main analysis\n",
    "* generating result plots"
   ]
  },
  {
   "cell_type": "markdown",
   "metadata": {},
   "source": [
    "### Generating ground-truth data\n",
    "Before running the analysis on experimental data, let's generate some data with known ground truth. Here Elephant provides a number of methods to generate spiketrain activity with defined statistical properties. The simplest would be to have independent spike time (Poisson process). Since we later want to detect higher order correlations, we will use a Poisson process as background activity and add correlated spikes to it."
   ]
  },
  {
   "cell_type": "code",
   "execution_count": 15,
   "metadata": {},
   "outputs": [],
   "source": [
    "# imports for data handling and visualization\n",
    "from quantities import Hz, ms\n",
    "from elephant.spike_train_generation import homogeneous_poisson_process, compound_poisson_process\n",
    "import neo\n",
    "import numpy as np\n",
    "import matplotlib.pyplot as plt"
   ]
  },
  {
   "cell_type": "markdown",
   "metadata": {},
   "source": [
    "Neo and Elephant are handling physical units consistently during the analysis by using the python module [quantities](https://python-quantities.readthedocs.io). This also requires parameters to be supplied in the correct dimension, such that the physical units can be matched during analysis. In general Neo objects capture all minimal information relevant for the interpretation of the data. In case of the spiketrain, this encompasses the start and stop times of recording/spike extraction as well the sampling_rate and potential custom annotations in form of a dictionary."
   ]
  },
  {
   "cell_type": "code",
   "execution_count": 16,
   "metadata": {},
   "outputs": [
    {
     "name": "stdout",
     "output_type": "stream",
     "text": [
      "The spiketrain [ 19.02611069  81.54368209 289.10987824 290.77359913 350.54930445\n",
      " 391.88311771 394.38582378 404.69670487 430.11510013 459.68202875\n",
      " 478.46879225 505.23542694 538.96675155 554.01157468 563.39854772\n",
      " 663.94688338 741.765721   758.65958354 811.16306509 827.17164585\n",
      " 842.48197164 856.83023276 889.33991566 902.84067516 953.20030763\n",
      " 980.57308932 992.33423642] ms\n",
      "Spiketrain attributes and physical units\n",
      "['t_start: 0.0', 't_stop: 1000.0', 'sampling_rate: 1.0', 'annotations: {}']\n",
      "['t_start: ms', 't_stop: ms', 'sampling_rate: Hz']\n"
     ]
    },
    {
     "name": "stderr",
     "output_type": "stream",
     "text": [
      "/home/julia/anaconda3/envs/demo/lib/python3.6/site-packages/quantities/quantity.py:321: RuntimeWarning: divide by zero encountered in true_divide\n",
      "  return np.true_divide(other, self)\n"
     ]
    }
   ],
   "source": [
    "spiketrain = homogeneous_poisson_process(20*Hz, 0*ms, 1000*ms)\n",
    "print('The spiketrain', spiketrain)\n",
    "print('Spiketrain attributes and physical units')\n",
    "print(['{}: {}'.format(att, getattr(spiketrain,att)) for att in ['t_start', 't_stop', 'sampling_rate', 'annotations']])\n",
    "print(['{}: {}'.format(att, getattr(spiketrain,att).units.dimensionality) for att in ['t_start', 't_stop', 'sampling_rate']])"
   ]
  },
  {
   "cell_type": "markdown",
   "metadata": {},
   "source": [
    "An a first rule in or new workflow, let's generate multiple datasets with spiking activity and save them for future analysis steps. From the variety of file formats supported by Neo NIX has an hdf5 backend. Let's implement a virtual expiment, generating 100 poisson spiketrains stored in the NIX framework:"
   ]
  },
  {
   "cell_type": "code",
   "execution_count": 17,
   "metadata": {},
   "outputs": [],
   "source": [
    "import neo\n",
    "import quantities as pq\n",
    "from elephant.spike_train_generation import homogeneous_poisson_process, compound_poisson_process\n",
    "def generate_data(output_file, n=10):\n",
    "    with neo.io.NixIO(output_file, 'ow') as io:\n",
    "        # generate neo structure\n",
    "        block = neo.Block(experiment='poisson')\n",
    "        block.segments.append(neo.Segment(name='trial 1'))\n",
    "        # generate correlated spike trains\n",
    "        sts = compound_poisson_process(rate=5*pq.Hz, A=[0]+[0.90]+[0]*9+[0.1], t_stop=10*pq.s)\n",
    "        # add background poisson spike trains\n",
    "        for i in range(89):\n",
    "            sts.append(homogeneous_poisson_process(rate=5*pq.Hz, t_stop=10*pq.s))\n",
    "        block.segments[0].spiketrains.extend(sts)\n",
    "        block.create_relationship()\n",
    "        io.write_block(block)\n",
    "    \n",
    "generate_data('original_data/example_dataset.nix')"
   ]
  },
  {
   "cell_type": "markdown",
   "metadata": {},
   "source": [
    "We export this piece of code into a standalone script so we can use it in the snakemake workflow:"
   ]
  },
  {
   "cell_type": "code",
   "execution_count": 18,
   "metadata": {},
   "outputs": [
    {
     "name": "stdout",
     "output_type": "stream",
     "text": [
      "Overwriting generate_poisson.py\n"
     ]
    }
   ],
   "source": [
    "%%writefile generate_poisson.py\n",
    "import sys\n",
    "import neo\n",
    "import quantities as pq\n",
    "from quantities import Hz, ms\n",
    "from elephant.spike_train_generation import homogeneous_poisson_process, compound_poisson_process\n",
    "def generate_data(output_file, n=10):\n",
    "    with neo.io.NixIO(output_file, 'ow') as io:\n",
    "        # generate neo structure\n",
    "        block = neo.Block(experiment='poisson')\n",
    "        block.segments.append(neo.Segment(name='trial 1'))\n",
    "        # generate correlated spike trains\n",
    "        sts = compound_poisson_process(rate=5*pq.Hz, A=[0]+[0.90]+[0]*9+[0.1], t_stop=10*pq.s)\n",
    "        # add background poisson spike trains\n",
    "        for i in range(89):\n",
    "            sts.append(homogeneous_poisson_process(rate=5*pq.Hz, t_stop=10*pq.s))\n",
    "        block.segments[0].spiketrains.extend(sts)\n",
    "        block.create_relationship()\n",
    "        io.write_block(block)\n",
    "    \n",
    "if __name__=='__main__':\n",
    "    generate_data(*sys.argv[1:])"
   ]
  },
  {
   "cell_type": "code",
   "execution_count": 19,
   "metadata": {},
   "outputs": [
    {
     "name": "stderr",
     "output_type": "stream",
     "text": [
      "/home/julia/anaconda3/envs/demo/lib/python3.6/site-packages/quantities/quantity.py:321: RuntimeWarning: divide by zero encountered in true_divide\n",
      "  return np.true_divide(other, self)\n"
     ]
    }
   ],
   "source": [
    "%%sh\n",
    "python generate_poisson.py original_data/example_dataset.nix"
   ]
  },
  {
   "cell_type": "markdown",
   "metadata": {},
   "source": [
    "The first rule in the workflow know how to utilize the script to generate 10 new datasets. We limit the ids of the generated datasets from 0 to 9 to be able to use higher ids for different datasets."
   ]
  },
  {
   "cell_type": "code",
   "execution_count": 20,
   "metadata": {},
   "outputs": [
    {
     "name": "stdout",
     "output_type": "stream",
     "text": [
      "Overwriting Snakefile\n"
     ]
    }
   ],
   "source": [
    "%%writefile Snakefile\n",
    "rule all:\n",
    "    input: expand('original_data/dataset{id}.nix', id=range(10))\n",
    "        \n",
    "rule generate_data:\n",
    "    output: 'original_data/dataset{id,[0-9]}.nix'\n",
    "    shell: 'python generate_poisson.py {output}'"
   ]
  },
  {
   "cell_type": "markdown",
   "metadata": {},
   "source": [
    "And running the workflow. The output files should appear [here](original_data). Have a look at the shell output of snakemake. It should list the number and type of jobs which are going to be run and the wildcards and status of each job."
   ]
  },
  {
   "cell_type": "code",
   "execution_count": 21,
   "metadata": {},
   "outputs": [
    {
     "name": "stderr",
     "output_type": "stream",
     "text": [
      "Building DAG of jobs...\n",
      "Nothing to be done.\n",
      "Complete log: /home/julia/presentations/2019-06-20_Toronto/snakemake_elephant_demo/.snakemake/log/2019-06-13T170429.655157.snakemake.log\n"
     ]
    }
   ],
   "source": [
    "%%sh\n",
    "snakemake -pr"
   ]
  },
  {
   "cell_type": "code",
   "execution_count": 22,
   "metadata": {},
   "outputs": [
    {
     "name": "stderr",
     "output_type": "stream",
     "text": [
      "Building DAG of jobs...\n",
      "Building DAG of jobs...\n"
     ]
    }
   ],
   "source": [
    "%%sh\n",
    "snakemake --dag | dot | display\n",
    "snakemake --dag | dot -Tsvg > dag5.svg"
   ]
  },
  {
   "cell_type": "markdown",
   "metadata": {},
   "source": [
    "To visualize the generated data, we implement a utility script to load the data and a second script plot the data using matplotlib."
   ]
  },
  {
   "cell_type": "code",
   "execution_count": 23,
   "metadata": {},
   "outputs": [
    {
     "name": "stdout",
     "output_type": "stream",
     "text": [
      "Overwriting plot_data.py\n"
     ]
    }
   ],
   "source": [
    "%%writefile plot_data.py\n",
    "import sys\n",
    "import numpy as np\n",
    "import neo\n",
    "import matplotlib.pyplot as plt\n",
    "def plot_data(data_filename, plot_filename):\n",
    "    # opening the data file\n",
    "    with neo.io.NixIO(data_filename, 'ro') as io:\n",
    "        block = io.read_block()\n",
    "    # plot spiketrains\n",
    "    for i, spiketrain in enumerate(block.segments[0].spiketrains):\n",
    "        plt.plot(spiketrain, [i]*len(spiketrain), 'b.')\n",
    "        # this is for later steps in the analysis: plot patterns if already detected\n",
    "        if 'pattern' in spiketrain.annotations:\n",
    "            pattern_spikes = spiketrain[np.where(spiketrain.annotations['pattern'])]\n",
    "            plt.plot(pattern_spikes, [i]*len(pattern_spikes), 'r.')\n",
    "    plt.xlabel('Time [{}]'.format(spiketrain[0].units.dimensionality.latex))\n",
    "    plt.ylabel('Spiketrains')\n",
    "    plt.savefig(plot_filename)\n",
    "    \n",
    "if __name__=='__main__':\n",
    "    plot_data(*sys.argv[1:])"
   ]
  },
  {
   "cell_type": "markdown",
   "metadata": {},
   "source": [
    "Now we can visualize the previously generated data. The introduced correlation should be visible already by eye in this arrangement of the spiketrains. In case of random reordering however this looks different."
   ]
  },
  {
   "cell_type": "code",
   "execution_count": 24,
   "metadata": {
    "scrolled": true
   },
   "outputs": [
    {
     "data": {
      "image/png": "[encoded data removed]",
      "text/plain": [
       "<Figure size 432x288 with 1 Axes>"
      ]
     },
     "metadata": {
      "needs_background": "light"
     },
     "output_type": "display_data"
    }
   ],
   "source": [
    "from plot_data import plot_data\n",
    "plot_data('original_data/dataset2.nix', 'original_data/dataset2.png')"
   ]
  },
  {
   "cell_type": "markdown",
   "metadata": {},
   "source": [
    "For the context of thi analysis we teach snakemake how to go from arbitraty datasets in the nix format to a plot of the data. Now the exact data locationof the nix file is not relevant any more since we introduced an additional `folder` wildcard."
   ]
  },
  {
   "cell_type": "code",
   "execution_count": 25,
   "metadata": {},
   "outputs": [
    {
     "name": "stdout",
     "output_type": "stream",
     "text": [
      "Appending to Snakefile\n"
     ]
    }
   ],
   "source": [
    "%%writefile -a Snakefile\n",
    "\n",
    "rule plot_data:\n",
    "    input: '{folder}/dataset{id}.nix'\n",
    "    output: '{folder}/dataset{id}.png'\n",
    "    shell: 'python plot_data.py {input} {output}'"
   ]
  },
  {
   "cell_type": "code",
   "execution_count": 26,
   "metadata": {},
   "outputs": [
    {
     "name": "stderr",
     "output_type": "stream",
     "text": [
      "Building DAG of jobs...\n",
      "Nothing to be done.\n",
      "Complete log: /home/julia/presentations/2019-06-20_Toronto/snakemake_elephant_demo/.snakemake/log/2019-06-13T170442.287306.snakemake.log\n"
     ]
    }
   ],
   "source": [
    "%%sh\n",
    "snakemake original_data/dataset0.png "
   ]
  },
  {
   "cell_type": "markdown",
   "metadata": {},
   "source": [
    "### Running SPADE\n",
    "In the next step we want to run an analysis on the data, which is detecting the injected higher order correlation ins the data. One of the methods suited for the detection of spatio-temporal patterns is `SPADE` [(Quaglio et al, 2017)](https://doi.org/10.3389/fncom.2017.00041)\n",
    "."
   ]
  },
  {
   "cell_type": "code",
   "execution_count": 27,
   "metadata": {},
   "outputs": [
    {
     "name": "stdout",
     "output_type": "stream",
     "text": [
      "Overwriting run_spade.py\n"
     ]
    }
   ],
   "source": [
    "%%writefile run_spade.py\n",
    "import sys\n",
    "import numpy as np\n",
    "import neo\n",
    "import quantities as pq\n",
    "import elephant.spade\n",
    "\n",
    "\n",
    "def clean_nix_annotations(block):\n",
    "    '''helper function needed for neo 0.7.1'''\n",
    "    # removing unnessesary annotations to permit block to be saved again via nix\n",
    "    objs = [block] + block.filter(data=True, container=True)\n",
    "    for obj in objs:\n",
    "        if 'nix_name' in obj.annotations:\n",
    "            obj.annotations.pop('nix_name')\n",
    "        if 'neo_name' in obj.annotations:\n",
    "            obj.annotations.pop('neo_name')\n",
    "    \n",
    "\n",
    "def run_spade(data_filename, output_filename):\n",
    "    # loading dataset\n",
    "    with neo.io.get_io(data_filename, 'rw') as io:\n",
    "        block = io.read_block()\n",
    "    spiketrains = block.segments[0].spiketrains\n",
    "    \n",
    "    # run spade analysis\n",
    "    patterns = elephant.spade.spade(\n",
    "        data=spiketrains, binsize=1*pq.ms, winlen=1, dither=5*pq.ms,\n",
    "        min_spikes=3, n_surr=10, psr_param=[0,0,3],\n",
    "        output_format='patterns')['patterns']\n",
    "    \n",
    "    # convert first pattern into annotations of spiketrains\n",
    "    # default: no spike belongs to any pattern\n",
    "    for spiketrain in spiketrains:\n",
    "        spiketrain.annotate(pattern=np.array([False]*len(spiketrain)))\n",
    "        \n",
    "    # convert first detected pattern to annotations of spiketrains\n",
    "    for pattern_id, pattern in enumerate(patterns):\n",
    "        neurons = pattern['neurons']\n",
    "        times = pattern['times']\n",
    "        lags = pattern['lags']\n",
    "        for n, neuron in enumerate(neurons):\n",
    "            if n == 0:\n",
    "                pattern_times = times\n",
    "            else:\n",
    "                pattern_times = times + lags[n-1]\n",
    "            for pattern_time in pattern_times:\n",
    "                spike_idx = np.abs(spiketrains[neuron]-pattern_time).argmin()\n",
    "                spiketrains[neuron].annotations['pattern'][spike_idx] = True\n",
    "\n",
    "    # overwrite original neo file\n",
    "    clean_nix_annotations(block)\n",
    "    with neo.io.NixIO(output_filename, 'ow') as io2: \n",
    "        io2.write_block(block)\n",
    "        \n",
    "if __name__=='__main__':\n",
    "    run_spade(*sys.argv[1:])"
   ]
  },
  {
   "cell_type": "markdown",
   "metadata": {},
   "source": [
    "We add a rule to the snakemake workflow for runnig spade:"
   ]
  },
  {
   "cell_type": "code",
   "execution_count": 28,
   "metadata": {},
   "outputs": [
    {
     "name": "stdout",
     "output_type": "stream",
     "text": [
      "Appending to Snakefile\n"
     ]
    }
   ],
   "source": [
    "%%writefile -a Snakefile\n",
    "\n",
    "rule run_spade:\n",
    "    input: 'original_data/dataset{id}.nix'\n",
    "    output: 'results/dataset{id}.nix'\n",
    "    shell: 'python run_spade.py {input} {output}'"
   ]
  },
  {
   "cell_type": "markdown",
   "metadata": {},
   "source": [
    "Now we can run spade by simply requesting the analysis result from snakemake"
   ]
  },
  {
   "cell_type": "code",
   "execution_count": 30,
   "metadata": {},
   "outputs": [
    {
     "name": "stdout",
     "output_type": "stream",
     "text": [
      "Time for pvalue spectrum computation: 3.922163248062134\n",
      "Time for data mining: 0.24398326873779297\n"
     ]
    },
    {
     "name": "stderr",
     "output_type": "stream",
     "text": [
      "Building DAG of jobs...\n",
      "Using shell: /bin/bash\n",
      "Provided cores: 1\n",
      "Rules claiming more threads will be scaled down.\n",
      "Job counts:\n",
      "\tcount\tjobs\n",
      "\t1\trun_spade\n",
      "\t1\n",
      "\n",
      "[Thu Jun 13 17:05:06 2019]\n",
      "rule run_spade:\n",
      "    input: original_data/dataset0.nix\n",
      "    output: results/dataset0.nix\n",
      "    jobid: 0\n",
      "    wildcards: id=0\n",
      "\n",
      "[Thu Jun 13 17:05:14 2019]\n",
      "Finished job 0.\n",
      "1 of 1 steps (100%) done\n",
      "Complete log: /home/julia/presentations/2019-06-20_Toronto/snakemake_elephant_demo/.snakemake/log/2019-06-13T170506.328471.snakemake.log\n"
     ]
    }
   ],
   "source": [
    "%%sh\n",
    "snakemake results/dataset0.nix"
   ]
  },
  {
   "cell_type": "markdown",
   "metadata": {},
   "source": [
    "## Apply analysis to experimental data <img src=https://web.gin.g-node.org/img/favicon.png alt=\"GIN\" style=\"width: 100px;\"/>\n",
    "In the next step we want to apply the same workflow to a set of experimental data. The data are publicly available at the data hosting platform [GIN](https://web.gin.g-node.org/) and are described in detail in [Brochier (2018)](https://doi.org/10.1038/sdata.2018.55). We are going to download two specific files of the dataset, which are saved in BlackRock nev/ns2 format. Since Neo also supports BlackRock formats, we use it to extract the relevant data and save them in the nix format to be consistent with the simulated data."
   ]
  },
  {
   "cell_type": "code",
   "execution_count": 31,
   "metadata": {},
   "outputs": [
    {
     "name": "stdout",
     "output_type": "stream",
     "text": [
      "Overwriting convert_to_nix.py\n"
     ]
    }
   ],
   "source": [
    "%%writefile convert_to_nix.py\n",
    "import sys\n",
    "import neo\n",
    "import quantities as pq\n",
    "def convert_data_to_nix(input_filename, nix_filename):\n",
    "    print(input_filename)\n",
    "    '''extracting first seconds of first spiketrains into separate nix file''' \n",
    "    io = neo.io.BlackrockIO(input_filename)\n",
    "    original_block = io.read_block()\n",
    "    \n",
    "    # Extracting spiketrain and append to new block\n",
    "    block = neo.Block(experiment='monkey')\n",
    "    block.segments.append(neo.Segment(name='first seconds of recording'))\n",
    "    new_spiketrains = [st.time_slice(0*pq.s,10*pq.s) for st in original_block.segments[-1].spiketrains[:100]]\n",
    "    block.segments[0].spiketrains = new_spiketrains\n",
    "    \n",
    "    # save new block\n",
    "    with neo.io.NixIO(nix_filename, 'ow') as io2:\n",
    "        io2.write_block(block)\n",
    "        \n",
    "if __name__=='__main__':\n",
    "    convert_data_to_nix(*sys.argv[1:])"
   ]
  },
  {
   "cell_type": "markdown",
   "metadata": {},
   "source": [
    "For fetching the data we directly download the data using `wget`. A more elegant version would involve installation of `git annex` or the `gin` client to be consistent with the version management handled by gin. We also add a generic rule which permits the conversion of BlackRock files to nix files while cropping only a selection of the data. The final rule `run_complete` requests visualizations of all analysis runs and therefore triggers the whole workflow."
   ]
  },
  {
   "cell_type": "code",
   "execution_count": 32,
   "metadata": {},
   "outputs": [
    {
     "name": "stdout",
     "output_type": "stream",
     "text": [
      "Appending to Snakefile\n"
     ]
    }
   ],
   "source": [
    "%%writefile -a Snakefile\n",
    "\n",
    "rule download_data:\n",
    "    output:\n",
    "        nev = 'original_data/dataset10.nev',\n",
    "        ns2 = 'original_data/dataset10.ns2'\n",
    "    shell: '''\n",
    "    wget -O {output.nev} https://web.gin.g-node.org/INT/multielectrode_grasp/raw/24cd5caee3ae79066ca37844cab931d04dcad977/datasets/i140703-001-03.nev\n",
    "    wget -O {output.ns2} https://web.gin.g-node.org/INT/multielectrode_grasp/raw/24cd5caee3ae79066ca37844cab931d04dcad977/datasets/i140703-001.ns2\n",
    "    '''\n",
    "        \n",
    "rule convert_to_nix:\n",
    "    input: '{filename}.nev',\n",
    "           '{filename}.ns2'\n",
    "    output: '{filename}.nix'\n",
    "    shell: 'python convert_to_nix.py {wildcards.filename} {output}'\n",
    "        \n",
    "rule run_complete:\n",
    "    input: expand('results/dataset{id}.png', id=range(11))"
   ]
  },
  {
   "cell_type": "code",
   "execution_count": 33,
   "metadata": {},
   "outputs": [
    {
     "name": "stderr",
     "output_type": "stream",
     "text": [
      "Building DAG of jobs...\n",
      "Using shell: /bin/bash\n",
      "Provided cores: 1\n",
      "Rules claiming more threads will be scaled down.\n",
      "Job counts:\n",
      "\tcount\tjobs\n",
      "\t1\tplot_data\n",
      "\t1\trun_complete\n",
      "\t2\n",
      "\n",
      "[Thu Jun 13 17:05:19 2019]\n",
      "rule plot_data:\n",
      "    input: results/dataset0.nix\n",
      "    output: results/dataset0.png\n",
      "    jobid: 1\n",
      "    wildcards: folder=results, id=0\n",
      "\n",
      "[Thu Jun 13 17:05:22 2019]\n",
      "Finished job 1.\n",
      "1 of 2 steps (50%) done\n",
      "\n",
      "[Thu Jun 13 17:05:22 2019]\n",
      "localrule run_complete:\n",
      "    input: results/dataset0.png, results/dataset1.png, results/dataset2.png, results/dataset3.png, results/dataset4.png, results/dataset5.png, results/dataset6.png, results/dataset7.png, results/dataset8.png, results/dataset9.png, results/dataset10.png\n",
      "    jobid: 0\n",
      "\n",
      "[Thu Jun 13 17:05:22 2019]\n",
      "Finished job 0.\n",
      "2 of 2 steps (100%) done\n",
      "Complete log: /home/julia/presentations/2019-06-20_Toronto/snakemake_elephant_demo/.snakemake/log/2019-06-13T170519.446220.snakemake.log\n"
     ]
    }
   ],
   "source": [
    "%%sh\n",
    "snakemake run_complete"
   ]
  },
  {
   "cell_type": "markdown",
   "metadata": {},
   "source": [
    "The whole workflow encompasses now artificial data generation as well as retrieval of experimental data as well as a common analysis and visualization."
   ]
  },
  {
   "cell_type": "code",
   "execution_count": 36,
   "metadata": {},
   "outputs": [
    {
     "name": "stderr",
     "output_type": "stream",
     "text": [
      "Building DAG of jobs...\n",
      "Building DAG of jobs...\n"
     ]
    }
   ],
   "source": [
    "%%sh\n",
    "snakemake run_complete --dag | dot | display\n",
    "snakemake run_complete --dag | dot -Tsvg > run_complete.svg"
   ]
  },
  {
   "cell_type": "markdown",
   "metadata": {},
   "source": [
    "![DAG](run_complete.svg)"
   ]
  },
  {
   "cell_type": "code",
   "execution_count": null,
   "metadata": {},
   "outputs": [],
   "source": []
  }
 ],
 "metadata": {
  "kernelspec": {
   "display_name": "Python 3",
   "language": "python",
   "name": "python3"
  },
  "language_info": {
   "codemirror_mode": {
    "name": "ipython",
    "version": 3
   },
   "file_extension": ".py",
   "mimetype": "text/x-python",
   "name": "python",
   "nbconvert_exporter": "python",
   "pygments_lexer": "ipython3",
   "version": "3.6.6"
  }
 },
 "nbformat": 4,
 "nbformat_minor": 2
}
